{
 "cells": [
  {
   "cell_type": "code",
   "execution_count": 1,
   "id": "701a3bd3",
   "metadata": {},
   "outputs": [
    {
     "name": "stdout",
     "output_type": "stream",
     "text": [
      "1,23,456.7891\n"
     ]
    }
   ],
   "source": [
    "def format_indian_currency(number):\n",
    "    parts = str(number).split('.')\n",
    "    int_part = parts[0]\n",
    "    decimal = '.' + parts[1] if len(parts) > 1 else ''\n",
    "    if len(int_part) > 3:\n",
    "        last_three = int_part[-3:]\n",
    "        rest = int_part[:-3]\n",
    "        result = []\n",
    "        while len(rest) > 2:\n",
    "            result.insert(0, rest[-2:])\n",
    "            rest = rest[:-2]\n",
    "        if rest:\n",
    "            result.insert(0, rest)\n",
    "        formatted = ','.join(result) + ',' + last_three\n",
    "    else:\n",
    "        formatted = int_part\n",
    "    return formatted + decimal\n",
    "\n",
    "print(format_indian_currency(123456.7891))"
   ]
  },
  {
   "cell_type": "code",
   "execution_count": null,
   "id": "4b859528",
   "metadata": {},
   "outputs": [],
   "source": []
  }
 ],
 "metadata": {
  "kernelspec": {
   "display_name": "Python 3 (ipykernel)",
   "language": "python",
   "name": "python3"
  },
  "language_info": {
   "codemirror_mode": {
    "name": "ipython",
    "version": 3
   },
   "file_extension": ".py",
   "mimetype": "text/x-python",
   "name": "python",
   "nbconvert_exporter": "python",
   "pygments_lexer": "ipython3",
   "version": "3.11.4"
  }
 },
 "nbformat": 4,
 "nbformat_minor": 5
}
